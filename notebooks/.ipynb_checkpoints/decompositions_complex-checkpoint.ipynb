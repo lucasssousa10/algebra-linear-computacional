{
 "cells": [
  {
   "cell_type": "markdown",
   "metadata": {},
   "source": [
    "# Algebra Linear Computacional\n",
    "## Notebook 3 - Decomposições complexas\n",
    "### **Aluno**: Lucas Silva de Sousa \n",
    "________________\n",
    "\n",
    "No presente notebook serão serão apresentados os resultados obtidos com as implementações dos métodos decomposição QR e formas de obtenção de auto-valores e auto-vetores. As implementações dos métodos foram feitos utilizando a linguagem Python 3. Os códigos fontes foram organizados em módulos e classes orientadas a objeto. A organização dos códigos seguem a seguinte estrutura: \n",
    "\n",
    "- Módulo *lib* contém as bibliotecas que foram elaboradas com com as operações.\n",
    "- Módulo *notebooks* são armazenados os códigos das simulações realizadas com os métodos.\n",
    "\n",
    "Os tópicos que serão tratados neste notebook são: \n",
    "\n",
    "1. Método QR\n",
    "    - Ortogonalizarão de Gran-Shimidt\n",
    "    - Decomposição QR por matrizes de rotação (Não implementado)\n",
    "    - Decomposição QR por matrizes de reflexão\n",
    "2. Autovalores e autovetores\n",
    "    - Método da potência: Regular, inverso e com deslocamento (Não implementado)\n",
    "    - Métodos de transformações de similaridade: Householder + QR\n",
    "3. Decomposição de valores singulares\n",
    "    - Resolução através do método QR\n",
    "\n",
    "Na próxima célula é realizada a importação das bibliotecas necessárias para o trabalho."
   ]
  },
  {
   "cell_type": "code",
   "execution_count": 16,
   "metadata": {},
   "outputs": [],
   "source": [
    "import sys\n",
    "sys.path.append(\"../\")\n",
    "\n",
    "import numpy as np\n",
    "from lib.matrix import Matrix\n",
    "from lib.linear_system import gauss_elimination, gauss_elimination_reduction\n",
    "from lib.decompositions import QR_method_gram_sh, QR_method_hh, eign_qr_hh, svd"
   ]
  },
  {
   "cell_type": "markdown",
   "metadata": {},
   "source": [
    "### 1. Método QR\n",
    "\n",
    "O método QR é uma forma de decomposição de uma matriz em um produto de uma matriz ortogonal $\\mathbf{Q}$ e uma outra matriz triangular superior $\\mathbf{R}$. \n",
    "\n",
    "#### 1.1. Método QR via ortogonalização de gram-shmidt\n",
    "A primeira forma de se obter a decomposição QR, é através do método de ortogonalização de Gram-shmidt. Esse método realiza uma conversão de um espaço vetorial em um espaço vetorial ortonormal ortogonal. Sua aplicação no método QR é bem direta, pois o resultado direto do método de gram-shmidt é a própria matriz $\\mathbf{Q}$. Daí, para se encontrar a matriz $\\mathbf{R}$, basta se resolver os sistemas de equações lineares que ocorrem entre as colunas da matriz $\\mathbf{A}$ em relação à sua decomposição $\\mathbf{A} = \\mathbf{Q}\\mathbf{R}$.\n",
    "\n",
    "A seguir é apresentado o resultado da implementação do método QR através da ortogonalização de Gram-shmidt. Considere a matriz \n",
    "\n",
    "$\\mathbf{A} = \n",
    "\\begin{bmatrix}\n",
    "3 & 2 & 4 \\\\\n",
    "1 & 1 & 2 \\\\\n",
    "4 & 3 & -2\n",
    "\\end{bmatrix}$"
   ]
  },
  {
   "cell_type": "code",
   "execution_count": 3,
   "metadata": {},
   "outputs": [],
   "source": [
    "# criação da matriz A e aplicação do método QR implementado\n",
    "\n",
    "A = np.array([[3.0, 2.0, 4.0], [1.0, 1.0, 2.0], [4.0, 3.0, -2.0]])\n",
    "ma = Matrix(A)\n",
    "\n",
    "Q, R = QR_method_gram_sh(ma)"
   ]
  },
  {
   "cell_type": "code",
   "execution_count": 4,
   "metadata": {},
   "outputs": [
    {
     "name": "stdout",
     "output_type": "stream",
     "text": [
      "[[ 0.58834841 -0.56613852  0.57735027]\n",
      " [ 0.19611614  0.79259392  0.57735027]\n",
      " [ 0.78446454  0.22645541 -0.57735027]]\n"
     ]
    }
   ],
   "source": [
    "# Matriz Q\n",
    "print(Q)"
   ]
  },
  {
   "cell_type": "code",
   "execution_count": 5,
   "metadata": {},
   "outputs": [
    {
     "name": "stdout",
     "output_type": "stream",
     "text": [
      "[[ 5.09901951  3.72620656  1.17670296]\n",
      " [ 0.          0.33968314 -1.13229283]\n",
      " [ 0.          0.          4.61880431]]\n"
     ]
    }
   ],
   "source": [
    "# Matriz R\n",
    "\n",
    "print(R)"
   ]
  },
  {
   "cell_type": "code",
   "execution_count": 6,
   "metadata": {},
   "outputs": [
    {
     "name": "stdout",
     "output_type": "stream",
     "text": [
      "[[ 3.          1.99999998  4.0000138 ]\n",
      " [ 1.          1.00000002  1.99998993]\n",
      " [ 4.          3.         -2.        ]]\n"
     ]
    }
   ],
   "source": [
    "# aplicação do produto entre as matrizes QR a fim de se obter a matriz A novamente.\n",
    "\n",
    "print(np.matmul(Q, R))"
   ]
  },
  {
   "cell_type": "markdown",
   "metadata": {},
   "source": [
    "Observe que na célula acima, é apresentado o produto entre as matrizes Q e R a fim de se reconstruir a matriz A. É possível observar que o valor resultante é bem aproximado, exceto por algumas casas decimais.\n",
    "\n",
    "#### 1.2. Método QR via householder\n",
    "\n",
    "O método de householder pode ser aplicado diretamente na decomposição QR. O método de householder recebe como entrada uma matriz $\\mathbf{A}$ com dimensões $(m \\times n)$. O método irá resultar em uma matriz com dimensões $(m \\times m)$. O processo é realizado de forma iterativa em que a matriz resultante é obtida a partir de multiplicações simultâneas de novas matrizes obtidas a cada iteração. A cada iteração, a matriz $\\mathbf{Z}$ é recalculada com base na equação a seguir: \n",
    "\n",
    "$\\mathbf{Z}_i = \\mathbf{I} - \\mathcal{vv}^\\intercal$,\n",
    "\n",
    "em que a matriz v é calculada seguindo os seguintes passos: \n",
    "\n",
    "1. $\\mathcal{e} = ||\\mathcal{a}_1|| * [1, 0, 0 ... 0]_{1 \\times m}$, em que $\\mathcal{a_1}$ é a primeira coluna da matriz A.\n",
    "2. $\\mathcal{u} = \\mathcal{x} - \\mathcal{e}$\n",
    "3. $\\mathcal{v} = \\frac{\\mathcal{u}}{||\\mathcal{u}||}$\n",
    "\n",
    "Vale observar que na primeira iteração do método, $\\mathcal{a}_1$ será a primeira coluna da matriz $\\mathbf{A}$, mas a partir da segunda iteração, o vetor $\\mathcal{v}$ será calculado com base na matriz $\\mathbf{Z}$ sem a primeira linha e a primeira coluna. Consequentemente, o vetor $\\mathcal{v}$ que será obtido terá uma dimensão a menos em relação a iteração anterior. A cada iteração, a matriz $\\mathbf{Z}$ será atualizada de modo que $\\mathbf{Z}_{i + 1} = \\mathbf{Z}_{i + 1}\\mathbf{Z}_{i}$. Para isso, a matriz $\\mathbf{Z}_{i + 1}$ deverá ter uma linha acima e à esquerda adicionada com zeros, exceto pelo elemento da posição $(0, 0)$ que será igual a 1.\n",
    "\n",
    "Ao final do algoritmo, a matriz $\\mathbf{R} = \\mathbf{Z}\\mathbf{A}$ e a matriz $\\mathbf{Q} = \\mathbf{Z}$.\n",
    "\n",
    "Nas próximas células são apresentados os resultados da implementação."
   ]
  },
  {
   "cell_type": "code",
   "execution_count": 7,
   "metadata": {},
   "outputs": [],
   "source": [
    "# matriz utilizada na simulação\n",
    "\n",
    "T = np.array([[12, -51, 4], [6, 167, -68], [-4, 24, -41]])\n",
    "mt = Matrix(T)"
   ]
  },
  {
   "cell_type": "code",
   "execution_count": 8,
   "metadata": {},
   "outputs": [],
   "source": [
    "# aplicação do método \n",
    "\n",
    "Q, R = QR_method_hh(mt)"
   ]
  },
  {
   "cell_type": "code",
   "execution_count": 9,
   "metadata": {},
   "outputs": [
    {
     "name": "stdout",
     "output_type": "stream",
     "text": [
      "[[ 0.85714286 -0.39428571  0.33142857]\n",
      " [ 0.42857143  0.90285714 -0.03428571]\n",
      " [-0.28571429  0.17142857  0.94285714]]\n"
     ]
    }
   ],
   "source": [
    "# apresentação da matriz Q\n",
    "\n",
    "print(Q)"
   ]
  },
  {
   "cell_type": "code",
   "execution_count": 10,
   "metadata": {},
   "outputs": [
    {
     "name": "stdout",
     "output_type": "stream",
     "text": [
      "[[ 14.  21. -14.]\n",
      " [  0. 175. -70.]\n",
      " [  0.   0. -35.]]\n"
     ]
    }
   ],
   "source": [
    "# apresentação da matriz R\n",
    "\n",
    "print(R)"
   ]
  },
  {
   "cell_type": "code",
   "execution_count": 11,
   "metadata": {},
   "outputs": [
    {
     "name": "stdout",
     "output_type": "stream",
     "text": [
      "[[ 12. -51.   4.]\n",
      " [  6. 167. -68.]\n",
      " [ -4.  24. -41.]]\n"
     ]
    }
   ],
   "source": [
    "# produto entre as matrizes QR para se obter a matriz T novamente\n",
    "\n",
    "print(np.matmul(Q, R))"
   ]
  },
  {
   "cell_type": "markdown",
   "metadata": {},
   "source": [
    "### 2. Autovalores e Autovetores\n",
    "\n",
    "Dada uma matriz $\\mathbf{A}$, podemos encontrar seus autovalores e autovetores utilizando o método QR. Nessa implementação foi utilizada QR + Householder. Considerando a equação a seguir: \n",
    "\n",
    "$\\mathbf{A}\\mathcal{a} = \\lambda \\mathbf{a}$\n",
    "\n",
    "nesse caso, $\\lambda$ é um autovalor associado e o vetor $\\mathcal{a}$ é dito um autovetor. Utilizando o método QR, a diagonal da matriz $\\mathbf{R}$ é composta pelos autovalores da matriz $\\mathbf{A}$. Desse modo, podemos resolver o sistema linear homogeneo gerado com cada autovalor a fim de se obter cada um dos autovetores associados.\n",
    "\n",
    "A resolução do sistema linear homogêneo ocorreu através do método de eliminação da gauss, mas com um chute inicial para uma das variáveis. Isso fez com que a solução obtida não fosse a trivial."
   ]
  },
  {
   "cell_type": "code",
   "execution_count": 12,
   "metadata": {},
   "outputs": [],
   "source": [
    "D, eign = eign_qr_hh(mt)"
   ]
  },
  {
   "cell_type": "code",
   "execution_count": 13,
   "metadata": {},
   "outputs": [
    {
     "name": "stdout",
     "output_type": "stream",
     "text": [
      "[[ 0.85714286 -0.39428571  0.33142857]\n",
      " [ 0.42857143  0.90285714 -0.03428571]\n",
      " [-0.28571429  0.17142857  0.94285714]]\n"
     ]
    }
   ],
   "source": [
    "#matriz de autovetores\n",
    "\n",
    "print(D)"
   ]
  },
  {
   "cell_type": "code",
   "execution_count": 18,
   "metadata": {},
   "outputs": [
    {
     "name": "stdout",
     "output_type": "stream",
     "text": [
      "[ 14. 175. -35.]\n"
     ]
    }
   ],
   "source": [
    "# vetor de autovalores\n",
    "print(eign)"
   ]
  },
  {
   "cell_type": "markdown",
   "metadata": {},
   "source": [
    "### 3. Decomposição de valores singulares (SVD)\n",
    "\n",
    "O SVD é uma decomposição que pode ser aplicado à matrizes não quadradas e não-simétricas. Esse método reescreve uma certa matriz $\\mathbf{A}$ na forma: \n",
    "\n",
    "$\\mathbf{A} = \\mathbf{USV}^\\intercal$\n",
    "\n",
    "O procedimento para se obter a decomposição SVD parte em calcular a decomposição QR utilizando o método de householder para a matriz $M = AA^\\intercal$. Nesse caso, a matriz é simétrica e quadrada, o que simplifica o processo. De posse dos autovalores da matriz, a matriz $S$ pode ser construída de modo que:\n",
    "\n",
    "$\\mathbf{S} = \\begin{bmatrix}\n",
    "\\sqrt{\\lambda_{0}} & 0 & ... & 0\\\\\n",
    "0 & \\sqrt{\\lambda_{1}} & ... & 0\\\\\n",
    "... & ... & ... & ...\\\\\n",
    "0 & 0 & ... & \\sqrt{\\lambda_{m}}\\\\\n",
    "\\end{bmatrix}$\n",
    "\n",
    "em que $\\lambda_{i}$ são os valores singulares da matriz $\\mathbf{A}$. As colunas da matriz $\\mathbf{U}$ são os autovetores da matriz $\\mathbf{M}$ e a matriz $\\mathbf{V}$ pode ser calculada de forma analítica com base na equação a seguir: \n",
    "\n",
    "$\\mathbf{V} = (\\mathbf{S}^{-1}\\mathbf{U}^\\intercal\\mathbf{A})^\\intercal$\n",
    "\n",
    "A seguir são apresentados os códigos para demonstração do método."
   ]
  },
  {
   "cell_type": "code",
   "execution_count": 22,
   "metadata": {},
   "outputs": [
    {
     "name": "stdout",
     "output_type": "stream",
     "text": [
      "[[ 12 -51   4]\n",
      " [  6 167 -68]\n",
      " [ -4  24 -41]]\n"
     ]
    }
   ],
   "source": [
    "# apresentação da matriz utilizada no problema\n",
    "\n",
    "T = np.array([[12, -51, 4], [6, 167, -68], [-4, 24, -41]])\n",
    "mt = Matrix(T)\n",
    "print(T)"
   ]
  },
  {
   "cell_type": "code",
   "execution_count": 17,
   "metadata": {},
   "outputs": [],
   "source": [
    "# aplicação do método\n",
    "\n",
    "U, S, V_t = svd(mt)"
   ]
  },
  {
   "cell_type": "code",
   "execution_count": 18,
   "metadata": {},
   "outputs": [
    {
     "name": "stdout",
     "output_type": "stream",
     "text": [
      "[[ 0.29829688  0.71798664 -0.62889916]\n",
      " [-0.94177976  0.11430457 -0.3162046 ]\n",
      " [-0.15514463  0.68660735  0.71028198]]\n"
     ]
    }
   ],
   "source": [
    "# Matriz U\n",
    "print(U)"
   ]
  },
  {
   "cell_type": "code",
   "execution_count": 19,
   "metadata": {},
   "outputs": [
    {
     "name": "stdout",
     "output_type": "stream",
     "text": [
      "[[96.20748171  0.          0.        ]\n",
      " [ 0.         45.9512237   0.        ]\n",
      " [ 0.          0.         19.39671571]]\n"
     ]
    }
   ],
   "source": [
    "# Matriz S\n",
    "print(S)"
   ]
  },
  {
   "cell_type": "code",
   "execution_count": 20,
   "metadata": {},
   "outputs": [
    {
     "name": "stdout",
     "output_type": "stream",
     "text": [
      "[[-0.01507718 -1.83160217  0.74417436]\n",
      " [ 0.14265643 -0.02284767 -0.71927716]\n",
      " [-0.63336215 -0.19000864 -0.52252377]]\n"
     ]
    }
   ],
   "source": [
    "# Matriz Vt\n",
    "\n",
    "print(V_t)"
   ]
  },
  {
   "cell_type": "code",
   "execution_count": 21,
   "metadata": {},
   "outputs": [
    {
     "name": "stdout",
     "output_type": "stream",
     "text": [
      "[[ 12. -51.   4.]\n",
      " [  6. 167. -68.]\n",
      " [ -4.  24. -41.]]\n"
     ]
    }
   ],
   "source": [
    "# produto das matrizes USVt para demonstrar corretude\n",
    "\n",
    "print(np.matmul(np.matmul(U, S), V_t))"
   ]
  }
 ],
 "metadata": {
  "kernelspec": {
   "display_name": "Python 3",
   "language": "python",
   "name": "python3"
  },
  "language_info": {
   "codemirror_mode": {
    "name": "ipython",
    "version": 3
   },
   "file_extension": ".py",
   "mimetype": "text/x-python",
   "name": "python",
   "nbconvert_exporter": "python",
   "pygments_lexer": "ipython3",
   "version": "3.8.2"
  },
  "metadata": {
   "interpreter": {
    "hash": "31f2aee4e71d21fbe5cf8b01ff0e069b9275f58929596ceb00d14d90e3e16cd6"
   }
  }
 },
 "nbformat": 4,
 "nbformat_minor": 4
}
