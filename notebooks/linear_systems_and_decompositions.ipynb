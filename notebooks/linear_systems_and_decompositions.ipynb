{
 "cells": [
  {
   "cell_type": "markdown",
   "metadata": {},
   "source": [
    "# Algebra Linear Computacional\n",
    "## Notebook 2 - Resolução de sistema lineares e decomposições\n",
    "### **Aluno**: Lucas Silva de Sousa \n",
    "________________\n",
    "\n",
    "No presente notebook serão serão apresentados os resultados obtidos com as implementações dos métodos resolução de sistemas lineares e decomposições de matrizes. As implementações dos métodos foram feitos utilizando a linguagem Python 3. Os códigos fontes foram organizados em módulos e classes orientadas a objeto. A organização dos códigos seguem a seguinte estrutura: \n",
    "\n",
    "- Módulo *lib* contém as bibliotecas que foram elaboradas com com as operações.\n",
    "- Módulo *notebooks* são armazenados os códigos das simulações realizadas com os métodos.\n",
    "\n",
    "Os tópicos que serão tratados neste notebook são: \n",
    "\n",
    "1. Método de eliminação de gauss\n",
    "    - Forma escalonada\n",
    "    - Forma escalonada reduzida\n",
    "2. fatoração de Cholesky\n",
    "3. Resolução de sistemas através da equação normal\n",
    "3. Fatoração LU\n",
    "\n",
    "Na próxima célula é realizada a importação das bibliotecas necessárias para o trabalho e a classe **Matrix** juntamente com as funções do módulo *linear_system*."
   ]
  },
  {
   "cell_type": "code",
   "execution_count": 358,
   "metadata": {},
   "outputs": [],
   "source": [
    "import sys\n",
    "sys.path.append(\"../\")\n",
    "\n",
    "import numpy as np\n",
    "from lib.matrix import Matrix\n",
    "from lib.linear_system import gauss_elimination, gauss_elimination_reduction"
   ]
  },
  {
   "cell_type": "markdown",
   "metadata": {},
   "source": [
    "### 1. Método de eliminação de Gauss\n",
    "\n",
    "O método de eliminação da Gauss é utilizado para resolução de sistemas lineares. O método faz uso da matriz aumentada do sistema linear na forma escalonada para encontrar os valores dos coeficientes do sistema através do processo de retro-substituição. Para analisar os resultados do método implementado, iremos utilizar a seguinte matriz:\n",
    "\n",
    "$D = \\begin{bmatrix}\n",
    "2 & 1 & 0 & 3 & 4\\\\\n",
    "1 & 1 & -1 & 1 & 1\\\\\n",
    "1 & -1 & -1 & 2 & -3\\\\\n",
    "-3 & 2 & 3 & -1 & 4\\\\\n",
    "\\end{bmatrix}$\n",
    "\n",
    "A carga da matriz será realizada na célula a seguir:"
   ]
  },
  {
   "cell_type": "code",
   "execution_count": 359,
   "metadata": {},
   "outputs": [
    {
     "name": "stdout",
     "output_type": "stream",
     "text": [
      "[[ 2.  1.  0.  3.  4.]\n",
      " [ 1.  1. -1.  1.  1.]\n",
      " [ 1. -1. -1.  2. -3.]\n",
      " [-3.  2.  3. -1.  4.]]\n"
     ]
    }
   ],
   "source": [
    "d = np.array([[2, 1, 0, 3, 4], [1, 1, -1, 1, 1], [1, -1, -1, 2, -3], [-3, 2, 3, -1, 4]]) # 4x5\n",
    "md = Matrix(d)\n",
    "\n",
    "print(md.data)"
   ]
  },
  {
   "cell_type": "markdown",
   "metadata": {},
   "source": [
    "A Função *gauss_elimination* recebe a matriz aumentada $D$ e retorna um vetor de coeficientes das quatro variáveis do sistema linear correspondente. A saber,"
   ]
  },
  {
   "cell_type": "code",
   "execution_count": 360,
   "metadata": {},
   "outputs": [
    {
     "name": "stdout",
     "output_type": "stream",
     "text": [
      "[[ 2.16667579  1.66667175  2.16667056 -0.66667222]]\n"
     ]
    }
   ],
   "source": [
    "x = gauss_elimination(md)\n",
    "print(x)"
   ]
  },
  {
   "cell_type": "markdown",
   "metadata": {},
   "source": [
    "Uma possível variação do método de eliminação de Gauss faz uso da matriz escalonada reduzida. Nesse caso, como a matriz dos coeficientes resultantes possui somente valores 1 nos pivôs, a substituição do vetor resultante é direta. Esse método é chamado de *Gauss-Jordan* e foi implementado através da função *gauss_elimination_reduction*. A seguir o método é aplicado à matriz $D$. Note que são obtidos resultados similares ao método da eliminação de Gauss."
   ]
  },
  {
   "cell_type": "code",
   "execution_count": 361,
   "metadata": {},
   "outputs": [
    {
     "name": "stdout",
     "output_type": "stream",
     "text": [
      "[[ 2.16669  1.66669  2.16667 -0.66667]]\n"
     ]
    }
   ],
   "source": [
    "y = gauss_elimination_reduction(md)\n",
    "print(y)"
   ]
  },
  {
   "cell_type": "markdown",
   "metadata": {},
   "source": [
    "### 2. Fatoração de Cholesky\n",
    "\n",
    "A Fatoração de Cholesky pode ser aplicada à matrizes simétricas e positivas definidas. Esse método é capaz de decompor uma Matriz $\\mathbf{A}$ de dimensões $(n \\times n)$ de modo que $\\mathbf{A} = \\mathbf{G}\\mathbf{G}^\\intercal$. Para demonstrar, considere a matriz simétrica e positiva definida a seguir:\n",
    "\n",
    "$\n",
    "\\mathbf{F} = \\begin{bmatrix}\n",
    "4 & 2 & -4\\\\\n",
    "2 & 10 & 4\\\\ \n",
    "-4 & 4 & 9\n",
    "\\end{bmatrix}$\n",
    "\n",
    "Nas próximas células é apresentado o código de aplicação do método de Cholesky para decomposição da matriz $\\mathbf{F}$."
   ]
  },
  {
   "cell_type": "code",
   "execution_count": 362,
   "metadata": {},
   "outputs": [
    {
     "name": "stdout",
     "output_type": "stream",
     "text": [
      "[[ 4.  2. -4.]\n",
      " [ 2. 10.  4.]\n",
      " [-4.  4.  9.]]\n"
     ]
    }
   ],
   "source": [
    "# instanciação da matriz F\n",
    "\n",
    "f = np.array([[4, 2, -4], [2, 10, 4], [-4, 4, 9]])\n",
    "mf = Matrix(f)\n",
    "\n",
    "print(mf.data)"
   ]
  },
  {
   "cell_type": "code",
   "execution_count": 363,
   "metadata": {},
   "outputs": [],
   "source": [
    "# execução do método cholesky da classe Matrix\n",
    "\n",
    "G, G_t = mf.cholesky()"
   ]
  },
  {
   "cell_type": "code",
   "execution_count": 364,
   "metadata": {},
   "outputs": [
    {
     "name": "stdout",
     "output_type": "stream",
     "text": [
      "[[ 2.  0.  0.]\n",
      " [ 1.  3.  0.]\n",
      " [-2.  2.  1.]]\n"
     ]
    }
   ],
   "source": [
    "# Matriz G\n",
    "print(G.data)"
   ]
  },
  {
   "cell_type": "code",
   "execution_count": 365,
   "metadata": {},
   "outputs": [
    {
     "name": "stdout",
     "output_type": "stream",
     "text": [
      "[[ 2.  1. -2.]\n",
      " [ 0.  3.  2.]\n",
      " [ 0.  0.  1.]]\n"
     ]
    }
   ],
   "source": [
    "# Matriz G_t\n",
    "print(G_t.data)"
   ]
  },
  {
   "cell_type": "markdown",
   "metadata": {},
   "source": [
    "Com o produto entre as matrizes $G$ e $G^\\intercal$ é possível reconstruir a matriz $\\mathbf{F}$ novamente."
   ]
  },
  {
   "cell_type": "code",
   "execution_count": 366,
   "metadata": {},
   "outputs": [
    {
     "name": "stdout",
     "output_type": "stream",
     "text": [
      "[[ 4.  2. -4.]\n",
      " [ 2. 10.  4.]\n",
      " [-4.  4.  9.]]\n"
     ]
    }
   ],
   "source": [
    "F_rec = G.matrix_product(G_t)\n",
    "print(F_rec.data)"
   ]
  },
  {
   "cell_type": "markdown",
   "metadata": {},
   "source": [
    "### 3. Resolução de sistemas lineares através da equação normal\n",
    "\n",
    "Considerando o sistema linear na forma $\\mathbf{A}\\mathcal{x} = \\mathcal{b}$ em que \\mathbf{A} possui dimensões $(m \\times n)$, \\mathcal{x} possui dimensões $(n \\times 1)$ e o vetor $\\mathcal{b}$ possui dimensões $\\mathcal{m} \\times 1$. Nos casos em que $m > n$ Podemos reescrever a equação na forma: \n",
    "\n",
    "$\\mathbf{A}^\\intercal\\mathbf{A}\\mathcal{x} = \\mathbf{A}^\\intercal\\mathcal{b}$\n",
    "\n",
    "Desse modo, o sistema pode ser resolvido através do método de eliminação de Gauss ou Gauss-Jordan, visto que a Matriz $\\mathbf{A}^\\intercal\\mathbf{A}$ é quadrada.\n",
    "\n",
    "Para demonstrar a resolução desse problema, iremos dividir a matriz aumentada $\\mathbf{D}$ em duas matrizes contendo os coeficientes e um vetor com o resultado. Assim,\n",
    "\n",
    "$\\mathbf{A} = \\begin{bmatrix}\n",
    "2 & 1 & 0 & 3\\\\\n",
    "1 & 1 & -1 & 1\\\\\n",
    "1 & -1 & -1 & 2\\\\\n",
    "-3 & 2 & 3 & -1\n",
    "\\end{bmatrix}$ e $\n",
    "\\mathcal{b} = \\begin{bmatrix}\n",
    "4\\\\\n",
    "1\\\\\n",
    "-3\\\\\n",
    "4\n",
    "\\end{bmatrix}$\n",
    "\n",
    "Nas próximas células será realizada essa divisão das matrizes em Python."
   ]
  },
  {
   "cell_type": "code",
   "execution_count": 367,
   "metadata": {},
   "outputs": [],
   "source": [
    "b = np.array([d[:, -1]]).T"
   ]
  },
  {
   "cell_type": "code",
   "execution_count": 368,
   "metadata": {},
   "outputs": [
    {
     "name": "stdout",
     "output_type": "stream",
     "text": [
      "[[ 2  1  0  3]\n",
      " [ 1  1 -1  1]\n",
      " [ 1 -1 -1  2]\n",
      " [-3  2  3 -1]]\n"
     ]
    }
   ],
   "source": [
    "A = d[:, 0:d.shape[1] - 1]\n",
    "print(A)"
   ]
  },
  {
   "cell_type": "code",
   "execution_count": 369,
   "metadata": {},
   "outputs": [
    {
     "name": "stdout",
     "output_type": "stream",
     "text": [
      "[[ 4.00002098]\n",
      " [ 0.99999896]\n",
      " [-2.99998314]\n",
      " [ 3.99998889]]\n"
     ]
    }
   ],
   "source": [
    "# Obtenção de uma nova matriz aumentada após o produto pela transposta e aplicação da eliminação de Gauss no novo sistema.\n",
    "A = np.matmul(A.T, A)\n",
    "b = np.matmul(A.T, b)\n",
    "\n",
    "A_aum = np.concatenate((A, b), axis=1)\n",
    "M_A_aum = Matrix(A_aum)\n",
    "\n",
    "result = gauss_elimination(M_A_aum)\n",
    "print(result.T)"
   ]
  },
  {
   "cell_type": "markdown",
   "metadata": {},
   "source": [
    "Note que o resultado obtido é igual ao vetor $\\mathcal{b}$."
   ]
  },
  {
   "cell_type": "markdown",
   "metadata": {},
   "source": [
    "### 3. Fatoração LU\n",
    "\n",
    "O método de fatoração LU consiste de uma forma de representar uma matriz $\\mathbf{A}$ com dimensões $n \\times n$ como o produto de duas outras matrizes $\\mathbf{L}$ e $\\mathbf{U}$. Vale observar que a matriz $\\mathbf{L}$ é diagonal inferior e a matriz $\\mathbf{U}$ é triangular superior. O processo de decomposição da matriz LU pode ser feito refatorando um pouco o processo de escalonamento da matriz por pivotação parcial, visto que a matriz $U$ é a triangular superior resultante do processo de escalonamento. A matriz triangular inferior é composta pelos multiplicadores calculados a partir dos pivôs no processo de pivotação parcial. O procedimento pode ser utilizado para simplificar a resolução de sistemas lineares.\n",
    "\n",
    "Como demonstração do método, considere o sistema linear a seguir: \n",
    "\n",
    "$\n",
    "\\mathbf{Z} = \\begin{bmatrix}\n",
    "2 & 1 & 1 & 0\\\\ \n",
    "4 & 3 & 3 & 1\\\\ \n",
    "8 & 7 & 9 & 5\\\\ \n",
    "6 & 7 & 9 & 8\\\\ \n",
    "\\end{bmatrix}\n",
    "$ e $\\mathcal{p} = \\begin{bmatrix}\n",
    "2\\\\ \n",
    "2\\\\ \n",
    "4\\\\ \n",
    "5 \n",
    "\\end{bmatrix}$\n",
    "\n",
    "A seguir é apresentada a forma de resolução do sistema linear baseado na fatoração LU. Vale observar que o método de fatoração faz parte da classe **Matrix** no módulo *lib*."
   ]
  },
  {
   "cell_type": "code",
   "execution_count": 375,
   "metadata": {},
   "outputs": [],
   "source": [
    "# Aplicação do método de fatoração LU na matriz A\n",
    "\n",
    "Z = np.array([[2, 1, 1, 0], [4, 3, 3, 1], [8, 7, 9, 5], [6, 7, 9, 8]])\n",
    "p = np.array([[2, 2, 4, 5]]).T\n",
    "\n",
    "mz = Matrix(Z)\n",
    "mp = Matrix(p)\n",
    "\n",
    "L, U, sw_lines = mz.fatoracao_lu()\n",
    "mp.data = mp.data[sw_lines]"
   ]
  },
  {
   "cell_type": "markdown",
   "metadata": {},
   "source": [
    "Como o método de fatoração LU implementado fez uso da pivotação parcial, linhas podem ter sido trocadas, daí a matriz *sw_lines* irá servir para reordenar o vetor $\\mathcal{p}$."
   ]
  },
  {
   "cell_type": "code",
   "execution_count": 376,
   "metadata": {},
   "outputs": [
    {
     "name": "stdout",
     "output_type": "stream",
     "text": [
      "[[ 1.          0.          0.          0.        ]\n",
      " [ 0.5         1.          0.          0.        ]\n",
      " [ 0.25       -0.42857143  1.          0.        ]\n",
      " [ 0.75       -0.28571429  0.33333333  1.        ]]\n"
     ]
    }
   ],
   "source": [
    "# Matriz L\n",
    "\n",
    "print(L.data)"
   ]
  },
  {
   "cell_type": "code",
   "execution_count": 377,
   "metadata": {},
   "outputs": [
    {
     "name": "stdout",
     "output_type": "stream",
     "text": [
      "[[ 8.          7.          9.          5.        ]\n",
      " [ 0.          1.75        2.25        4.25      ]\n",
      " [ 0.          0.         -0.85714286 -0.28571429]\n",
      " [ 0.          0.          0.          0.66666667]]\n"
     ]
    }
   ],
   "source": [
    "# Matriz U\n",
    "\n",
    "print(U.data)"
   ]
  },
  {
   "cell_type": "markdown",
   "metadata": {},
   "source": [
    "Para resolver o sistema linear a partir das matrizes $\\mathbf{L}$ e $\\mathbf{U}$, realizamos os dois passos: \n",
    "\n",
    "- Resolver o sistema $\\mathbf{L}\\mathcal{y} = \\mathcal{b}$\n",
    "- Depois resolver o sistema $\\mathbf{U}\\mathcal{x} = \\mathcal{y}$\n",
    "\n",
    "Assim,"
   ]
  },
  {
   "cell_type": "code",
   "execution_count": 378,
   "metadata": {},
   "outputs": [
    {
     "name": "stdout",
     "output_type": "stream",
     "text": [
      "[[ 4.     ]\n",
      " [ 3.     ]\n",
      " [ 2.28571]\n",
      " [-0.90477]]\n"
     ]
    }
   ],
   "source": [
    "#Resolvendo o primeiro sistema linear a fim de se obter o valor de y\n",
    "L_aum = np.concatenate((L.data, mp.data), axis=1)\n",
    "y = gauss_elimination(Matrix(L_aum)).T\n",
    "print(y)"
   ]
  },
  {
   "cell_type": "code",
   "execution_count": 379,
   "metadata": {},
   "outputs": [
    {
     "name": "stdout",
     "output_type": "stream",
     "text": [
      "[[-3.0357325 ]\n",
      " [ 7.85716071]\n",
      " [-2.21427667]\n",
      " [-1.357155  ]]\n"
     ]
    }
   ],
   "source": [
    "#Resolvendo o segundo sistema linear a fim de se obter o valor de x\n",
    "U_aum = np.concatenate((U.data, y), axis=1)\n",
    "x = gauss_elimination(Matrix(U_aum)).T\n",
    "\n",
    "print(x)"
   ]
  }
 ],
 "metadata": {
  "kernelspec": {
   "display_name": "Python 3",
   "language": "python",
   "name": "python3"
  },
  "language_info": {
   "codemirror_mode": {
    "name": "ipython",
    "version": 3
   },
   "file_extension": ".py",
   "mimetype": "text/x-python",
   "name": "python",
   "nbconvert_exporter": "python",
   "pygments_lexer": "ipython3",
   "version": "3.8.2"
  },
  "metadata": {
   "interpreter": {
    "hash": "31f2aee4e71d21fbe5cf8b01ff0e069b9275f58929596ceb00d14d90e3e16cd6"
   }
  }
 },
 "nbformat": 4,
 "nbformat_minor": 4
}