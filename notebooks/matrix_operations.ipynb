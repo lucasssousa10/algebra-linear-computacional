{
 "cells": [
  {
   "cell_type": "markdown",
   "metadata": {},
   "source": [
    "# Algebra Linear Computacional\n",
    "## Notebook 1 - Operações com matrizes\n",
    "### **Aluno**: Lucas Silva de Sousa \n",
    "________________\n",
    "\n",
    "No presente notebook serão serão apresentados os resultados obtidos com as implementações dos métodos de operações básicas com matrizes. As implementações dos métodos foram feitos utilizando a linguagem Python 3. Os códigos fontes foram organizados em módulos e classes orientadas a objeto. A organização dos códigos seguem a seguinte estrutura: \n",
    "\n",
    "- Módulo *lib* contém as bibliotecas que foram elaboradas com com as operações.\n",
    "- Módulo *notebooks* são armazenados os códigos das simulações realizadas com os métodos.\n",
    "\n",
    "Os tópicos que serão tratados neste notebook são: \n",
    "\n",
    "1. Produto escalar\n",
    "2. Produto matriz - vetor\n",
    "3. Produto matriz - matriz\n",
    "4. Forma escalonada da matriz\n",
    "    1. Forma escalonada reduzida e não-reduzida com pivotação parcial\n",
    "\n",
    "Na próxima célula é realizada a importação das bibliotecas necessárias para o trabalho e a classe **Matrix** que foi definida com os métodos."
   ]
  },
  {
   "cell_type": "code",
   "execution_count": 25,
   "metadata": {},
   "outputs": [],
   "source": [
    "import sys\n",
    "sys.path.append(\"../\")\n",
    "\n",
    "import numpy as np\n",
    "from lib.matrix import Matrix"
   ]
  },
  {
   "cell_type": "markdown",
   "metadata": {},
   "source": [
    "### Matrizes e vetores utilizadas nas simulações\n",
    "\n",
    "A fim de validar as implementações dos métodos, foram utilizadas as seguintes matrizes:\n",
    "\n",
    "$\n",
    "A = \\begin{bmatrix}\n",
    "4 & 3\\\\ \n",
    "6 & 3\n",
    "\\end{bmatrix}\n",
    "$, $\n",
    "B = \\begin{bmatrix}\n",
    "3 & 3 & 1\\\\\n",
    "4 & 5 & 9 \n",
    "\\end{bmatrix}\n",
    "$, $\n",
    "C = \\begin{bmatrix}\n",
    "2 & 1 & 1 & 3\\\\\n",
    "3 & 7 & 9 & 1\\\\\n",
    "1 & 4 & -11 & 10\n",
    "\\end{bmatrix}\n",
    "$, $\n",
    "D = \\begin{bmatrix}\n",
    "2 & 1 & 0 & 3 & 4\\\\\n",
    "1 & 1 & -1 & 1 & 1\\\\\n",
    "1 & -1 & -1 & 2 & -3\\\\\n",
    "-3 & 2 & 3 & -1 & 4\\\\\n",
    "\\end{bmatrix}\n",
    "$, $\n",
    "E = \\begin{bmatrix}\n",
    "3 & 4 & 1 \\\\\n",
    "2 & 2 & 1 \\\\\n",
    "3 & 4 & 5\n",
    "\\end{bmatrix}\n",
    "$\n",
    "\n",
    "Além das matrizes, também serão utilizados os escalares $\\alpha = 0,5$, $\\lambda = 2$, e $\\sigma = 0,3$ e os vetores a seguir:\n",
    "\n",
    "$\\mathcal{x} = \\begin{bmatrix}\n",
    "3 \\\\\n",
    "2 \\\\\n",
    "3\n",
    "\\end{bmatrix}\n",
    "$ e $\n",
    "\\mathcal{y} = \\begin{bmatrix}\n",
    "4, -1, 2, 7\n",
    "\\end{bmatrix}$.\n",
    "\n",
    "Na célula a seguir, são instanciadas os arrays e os objetos da classe Matrix contendo os dados de teste.\n"
   ]
  },
  {
   "cell_type": "code",
   "execution_count": 26,
   "metadata": {},
   "outputs": [],
   "source": [
    "# matrizes\n",
    "\n",
    "a = np.array([[4, 3], [6, 3]]) # 2x2\n",
    "b = np.array([[3, 3, 1], [4, 5, 9]]) # 2x3\n",
    "c = np.array([[2, 1, 1, 3], [3, 7, 9, 1], [1, 4, -11, 10]]) # 3x4\n",
    "d = np.array([[2, 1, 0, 3, 4], [1, 1, -1, 1, 1], [1, -1, -1, 2, -3], [-3, 2, 3, -1, 4]]) # 4x5\n",
    "e = np.array([[3, 4, 1], [2, 2, 1], [3, 4, 5]]) # 3x3\n",
    "\n",
    "ma = Matrix(a)\n",
    "mb = Matrix(b)\n",
    "mc = Matrix(c)\n",
    "md = Matrix(d)\n",
    "me = Matrix(e)\n",
    "\n",
    "# vetores\n",
    "\n",
    "x = np.array([[3], [2], [3]]) # 3x1\n",
    "y = np.array([[4, -1, 2, 7]]) # 1x4\n",
    "\n",
    "mx = Matrix(x)\n",
    "my = Matrix(y)\n",
    "\n",
    "# escalares\n",
    "\n",
    "alpha = 0.5\n",
    "lambd = 2\n",
    "sigma = 0.3"
   ]
  },
  {
   "cell_type": "markdown",
   "metadata": {},
   "source": [
    "### 1. Produto escalar\n",
    "\n",
    "O produto escalar de matrizes consiste em multiplicar cada componente individualmente da matriz por um valor constante. Para demonstrar esse tipo de operação, a seguir são apresentados os resultados dos produtos $\\alpha A$ e $\\lambda B$. Tal produto pode ser realizado através do método *scalar_product* da classe **Matrix**."
   ]
  },
  {
   "cell_type": "code",
   "execution_count": 27,
   "metadata": {},
   "outputs": [
    {
     "name": "stdout",
     "output_type": "stream",
     "text": [
      "[[2.  1.5]\n",
      " [3.  1.5]]\n"
     ]
    }
   ],
   "source": [
    "R1 = ma.scalar_product(alpha).data\n",
    "print(R1)"
   ]
  },
  {
   "cell_type": "code",
   "execution_count": 28,
   "metadata": {},
   "outputs": [
    {
     "name": "stdout",
     "output_type": "stream",
     "text": [
      "[[ 6.  6.  2.]\n",
      " [ 8. 10. 18.]]\n"
     ]
    }
   ],
   "source": [
    "R2 = mb.scalar_product(lambd).data\n",
    "print(R2)"
   ]
  },
  {
   "cell_type": "markdown",
   "metadata": {},
   "source": [
    "### 2. Produto matriz-vetor\n",
    "\n",
    "Essa operação se trata de multiplicar uma matriz com dimensões $(m \\times n)$ por um vetor com dimensões $(n \\times 1)$. O resultado dessa operação deve ser um vetor com dimensões $(m \\times 1)$. A fim de se avaliar o modelo implementado, serão realizadas as seguintes operações:\n",
    "\n",
    "- Produto $A\\mathcal{x}$ - O resultado deve ser um erro pelo fato das dimensões serem incompatíveis\n",
    "- Produto $B\\mathcal{x}$ - O resultado deve ser um vetor com dimensões $(2 \\times 1)$\n",
    "- Produto $E\\mathcal{x}$ - O resultado deve ser um vetor com dimensões $(3 \\times 1)$"
   ]
  },
  {
   "cell_type": "code",
   "execution_count": 29,
   "metadata": {},
   "outputs": [
    {
     "name": "stdout",
     "output_type": "stream",
     "text": [
      "Erro - As dimensões das matrizes são incompatíveis para realização do produto.\n"
     ]
    }
   ],
   "source": [
    "R3 = ma.matrix_product(mx)"
   ]
  },
  {
   "cell_type": "code",
   "execution_count": 30,
   "metadata": {},
   "outputs": [
    {
     "name": "stdout",
     "output_type": "stream",
     "text": [
      "[[18.]\n",
      " [49.]]\n"
     ]
    }
   ],
   "source": [
    "R4 = mb.matrix_product(mx).data\n",
    "print(R4)"
   ]
  },
  {
   "cell_type": "code",
   "execution_count": 31,
   "metadata": {},
   "outputs": [
    {
     "name": "stdout",
     "output_type": "stream",
     "text": [
      "[[20.]\n",
      " [13.]\n",
      " [32.]]\n"
     ]
    }
   ],
   "source": [
    "R5 = me.matrix_product(mx).data\n",
    "print(R5)"
   ]
  },
  {
   "cell_type": "markdown",
   "metadata": {},
   "source": [
    "### 3. Produto matriz-matriz\n",
    "\n",
    "O produto entre duas matrizes pode ser realizado entre uma matriz de dimensão $(m \\times n)$ e outra matriz $(k \\times j)$, caso $n = k$. A matriz resultante do produto terá dimensão $(m \\times j)$. Para validação da implementação, serão apresentados os resultados das seguintes operações:\n",
    "\n",
    "- AB - Deve resultar em uma matriz de dimensão $(2 \\times 3)$\n",
    "- BE - Deve resultar em uma matriz de dimensão $(2 \\times 3)$\n",
    "- DC - Deve resultar em erro devido as dimensões incompatíveis"
   ]
  },
  {
   "cell_type": "code",
   "execution_count": 32,
   "metadata": {},
   "outputs": [
    {
     "name": "stdout",
     "output_type": "stream",
     "text": [
      "[[24. 27. 31.]\n",
      " [30. 33. 33.]]\n"
     ]
    }
   ],
   "source": [
    "AB = ma.matrix_product(mb)\n",
    "print(AB.data)"
   ]
  },
  {
   "cell_type": "code",
   "execution_count": 33,
   "metadata": {},
   "outputs": [
    {
     "name": "stdout",
     "output_type": "stream",
     "text": [
      "[[18. 22. 11.]\n",
      " [49. 62. 54.]]\n"
     ]
    }
   ],
   "source": [
    "BE = mb.matrix_product(me)\n",
    "print(BE.data)"
   ]
  },
  {
   "cell_type": "code",
   "execution_count": 34,
   "metadata": {},
   "outputs": [
    {
     "name": "stdout",
     "output_type": "stream",
     "text": [
      "Erro - As dimensões das matrizes são incompatíveis para realização do produto.\n"
     ]
    }
   ],
   "source": [
    "DC = md.matrix_product(mc)"
   ]
  },
  {
   "cell_type": "markdown",
   "metadata": {},
   "source": [
    "### 4. Forma escalonada da matriz\n",
    "\n",
    "A forma escalonada de uma matriz é uma ferramenta essencial para resolução de sistemas lineares, que são métodos que serão apresentados nos próximos notebooks. Uma abordagem para se obter a forma escalonada de uma matriz consiste de realizar operações lineares entre as linhas de modo que a matriz termine o processo na forma triangular superior. No presente trabalho, foi utilizada uma metodologia de **pivotação parcial** em que além das operações lineares entre as linhas da matriz, também são feitas trocas de linhas específicas. Uma matriz é dita estar na forma escalonada caso algumas regras sejam seguidas. A saber:\n",
    "\n",
    "- O primeiro elemento não-zero de uma coluna da matriz (pivô) não poderá ter nenhum valor não-nulo abaixo dele.\n",
    "- Todo elemento pivô deverá estar à direita do pivô da coluna imediatamente anterior e uma linha abaixo.\n",
    "\n",
    "Além disso, existe uma outra abordagem de escalonamento de matrizes que resultam na forma escalonada reduzida. Uma matriz pertence à essa forma se: \n",
    "\n",
    "- Ela pertence a forma escalonada.\n",
    "- Todo elemento pivô possui valor 1.\n",
    "- Todos os valores acima e abaixo do pivô, na mesma coluna, devem ser nulos.\n",
    "\n",
    "A seguir são apresentados os resultados obtidos do escalonamento reduzido e não-reduzido das matrizes $D$, $C$ e $E$."
   ]
  },
  {
   "cell_type": "code",
   "execution_count": 35,
   "metadata": {},
   "outputs": [
    {
     "name": "stdout",
     "output_type": "stream",
     "text": [
      "[[-3.       2.       3.      -1.       4.     ]\n",
      " [ 0.       2.33333  2.       2.33333  6.66667]\n",
      " [ 0.       0.      -1.42858 -1.      -2.42859]\n",
      " [ 0.       0.       0.       1.8     -1.20001]]\n"
     ]
    }
   ],
   "source": [
    "# Forma escalonada da matriz D com pivotação parcial\n",
    "\n",
    "D_esc = md.partial_pivot_echelon()\n",
    "print(D_esc.data)"
   ]
  },
  {
   "cell_type": "code",
   "execution_count": 37,
   "metadata": {},
   "outputs": [
    {
     "name": "stdout",
     "output_type": "stream",
     "text": [
      "[[ 1.       0.       0.       0.       2.16669]\n",
      " [ 0.       1.       0.       0.       1.66669]\n",
      " [ 0.       0.       1.       0.       2.16667]\n",
      " [ 0.       0.       0.       1.      -0.66667]]\n"
     ]
    }
   ],
   "source": [
    "# Forma escalonada reduzida da matriz D com pivotação parcial\n",
    "\n",
    "D_esc_red = md.partial_pivot_echelon_reduced()\n",
    "print(D_esc_red.data)"
   ]
  },
  {
   "cell_type": "code",
   "execution_count": 38,
   "metadata": {},
   "outputs": [
    {
     "name": "stdout",
     "output_type": "stream",
     "text": [
      "[[  3.        7.        9.        1.     ]\n",
      " [  0.       -3.66667  -5.        2.33333]\n",
      " [  0.        0.      -16.27273  10.72728]]\n"
     ]
    }
   ],
   "source": [
    "# Forma escalonada da matriz C com pivotação parcial\n",
    "\n",
    "C_esc = mc.partial_pivot_echelon()\n",
    "print(C_esc.data)"
   ]
  },
  {
   "cell_type": "code",
   "execution_count": 39,
   "metadata": {},
   "outputs": [
    {
     "name": "stdout",
     "output_type": "stream",
     "text": [
      "[[ 1.       0.       0.       1.69832]\n",
      " [ 0.       1.       0.       0.26258]\n",
      " [ 0.       0.       1.      -0.65922]]\n"
     ]
    }
   ],
   "source": [
    "# Forma escalonada reduzida da matriz C com pivotação parcial\n",
    "\n",
    "C_esc_red = mc.partial_pivot_echelon_reduced()\n",
    "print(C_esc_red.data)"
   ]
  },
  {
   "cell_type": "code",
   "execution_count": 41,
   "metadata": {},
   "outputs": [
    {
     "name": "stdout",
     "output_type": "stream",
     "text": [
      "[[ 3.       4.       1.     ]\n",
      " [ 0.      -0.66667  0.33333]\n",
      " [ 0.       0.       4.     ]]\n"
     ]
    }
   ],
   "source": [
    "# Forma escalonada da matriz E com pivotação parcial\n",
    "\n",
    "E_esc = me.partial_pivot_echelon()\n",
    "print(E_esc.data)"
   ]
  },
  {
   "cell_type": "code",
   "execution_count": 43,
   "metadata": {},
   "outputs": [
    {
     "name": "stdout",
     "output_type": "stream",
     "text": [
      "[[1. 0. 0.]\n",
      " [0. 1. 0.]\n",
      " [0. 0. 1.]]\n"
     ]
    }
   ],
   "source": [
    "# Forma escalonada reduzida da matriz E com pivotação parcial\n",
    "\n",
    "E_esc_red = me.partial_pivot_echelon_reduced()\n",
    "print(E_esc_red.data)"
   ]
  }
 ],
 "metadata": {
  "kernelspec": {
   "display_name": "Python 3",
   "language": "python",
   "name": "python3"
  },
  "language_info": {
   "codemirror_mode": {
    "name": "ipython",
    "version": 3
   },
   "file_extension": ".py",
   "mimetype": "text/x-python",
   "name": "python",
   "nbconvert_exporter": "python",
   "pygments_lexer": "ipython3",
   "version": "3.8.2"
  },
  "metadata": {
   "interpreter": {
    "hash": "31f2aee4e71d21fbe5cf8b01ff0e069b9275f58929596ceb00d14d90e3e16cd6"
   }
  }
 },
 "nbformat": 4,
 "nbformat_minor": 4
}
